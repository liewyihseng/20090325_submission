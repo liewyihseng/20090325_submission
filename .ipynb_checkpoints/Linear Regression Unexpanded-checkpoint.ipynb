{
 "cells": [
  {
   "cell_type": "markdown",
   "id": "04514e15",
   "metadata": {},
   "source": [
    "#  Import"
   ]
  },
  {
   "cell_type": "code",
   "execution_count": 1,
   "id": "57d86faf",
   "metadata": {},
   "outputs": [],
   "source": [
    "import numpy as np\n",
    "import matplotlib.pyplot as plt\n",
    "import pandas as pd\n",
    "import math\n",
    "from sklearn.model_selection import KFold\n",
    "from functions.common_function import *\n",
    "from functions.initialize_model import initialize_model_expanded\n",
    "from sklearn.linear_model import LinearRegression\n",
    "from sklearn.metrics import mean_squared_error\n",
    "from sklearn.model_selection import cross_val_score\n",
    "from sklearn.model_selection import train_test_split\n",
    "from scipy.stats import pearsonr\n",
    "\n",
    "'''Enabling plotting of graphs just below the plotting commands'''\n",
    "%matplotlib inline\n",
    "'''Enabling the disply of all rows and columns within the dataframe'''\n",
    "pd.set_option(\"display.max_rows\", None, \"display.max_columns\", None)"
   ]
  },
  {
   "cell_type": "markdown",
   "id": "e30f9ce9",
   "metadata": {},
   "source": [
    "#  Constant"
   ]
  },
  {
   "cell_type": "code",
   "execution_count": 2,
   "id": "06451a79",
   "metadata": {},
   "outputs": [],
   "source": [
    "num_feature = 8\n",
    "cat_col = [4, 5]\n",
    "num_ori_feature = num_feature - len(cat_col)\n",
    "num_target = 3\n",
    "limit = pd.DataFrame({'lower' : [303, 20, 0, 2, 0, 0, 0, 0, 122, 1236, 14], \\\n",
    "                     'higher' : [840, 44, 17, 5, 1, 1, 1, 1, 408, 3240, 101], \\\n",
    "                     'ref' : [530, 40, 14, 3.2, np.nan, np.nan,np.nan, np.nan, np.nan, np.nan, np.nan]})\n",
    "\n",
    "\n",
    "'''Import dataset'''\n",
    "dataset = pd.read_csv(\"Dataset/Choudhury_Dataset.csv\")"
   ]
  },
  {
   "cell_type": "markdown",
   "id": "67420811",
   "metadata": {},
   "source": [
    "# Implementation"
   ]
  },
  {
   "cell_type": "code",
   "execution_count": 3,
   "id": "743aa24e",
   "metadata": {},
   "outputs": [
    {
     "name": "stdout",
     "output_type": "stream",
     "text": [
      "------------------------------------------------------------------------\n",
      "Score per fold\n",
      "------------------------------------------------------------------------\n",
      "> Fold 1 - MAE: 0.14502579000061167 - MSE: 0.032699710389299703- RMSE: 0.16122437645741314\n",
      "------------------------------------------------------------------------\n",
      "> Fold 2 - MAE: 0.09555249344520078 - MSE: 0.018037283446608994- RMSE: 0.11717451740658252\n",
      "------------------------------------------------------------------------\n",
      "> Fold 3 - MAE: 0.1656448398494165 - MSE: 0.16943759939678726- RMSE: 0.27051634882311176\n",
      "------------------------------------------------------------------------\n",
      "> Fold 4 - MAE: 0.048499177296968364 - MSE: 0.00317976902958524- RMSE: 0.05198891818428977\n",
      "------------------------------------------------------------------------\n",
      "Average scores for all folds:\n",
      "> MAE: 0.11368057514804931 - Standard Deviation: 0.04544240660482537\n",
      "> MSE: 0.0558385905655703\n",
      "> RMSE: 0.15022604021784927\n",
      "------------------------------------------------------------------------\n"
     ]
    }
   ],
   "source": [
    "'''Converting Categorical Data into binary representation'''\n",
    "converted_dataset = convert_cat(dataset, cat_col, num_ori_feature, num_target, [dataset.iloc[:, 4].unique(), dataset.iloc[:, 5].unique()])\n",
    "\n",
    "'''Normalising dataset according to higher and lower limit values'''\n",
    "normalised_dataset = normalise(converted_dataset, limit)\n",
    "\n",
    "'''Feature Target Splitting'''\n",
    "feature, target = x_y_split(normalised_dataset, num_feature, num_target)\n",
    "\n",
    "'''Model Fitting'''\n",
    "linear_reg_model = LinearRegression()\n",
    "MAE = abs(cross_val_score(linear_reg_model, feature, target, cv= 4, scoring= 'neg_mean_absolute_error'))\n",
    "MSE = abs(cross_val_score(linear_reg_model, feature, target, cv= 4, scoring= 'neg_mean_squared_error' ))\n",
    "RMSE = abs(cross_val_score(linear_reg_model, feature, target, cv=4, scoring= 'neg_root_mean_squared_error' ))\n",
    "\n",
    "\n",
    "'''Provide average score'''\n",
    "print('------------------------------------------------------------------------')\n",
    "print('Score per fold')\n",
    "for i in range(0, len(MAE)):\n",
    "    print('------------------------------------------------------------------------')\n",
    "    print(f'> Fold {i+1} - MAE: {MAE[i]} - MSE: {MSE[i]}- RMSE: {RMSE[i]}') \n",
    "print('------------------------------------------------------------------------')\n",
    "print('Average scores for all folds:')\n",
    "print(f'> MAE: {np.mean(MAE)} - Standard Deviation: {np.std(MAE)}')\n",
    "print(f'> MSE: {np.mean(MSE)}')\n",
    "print(f'> RMSE: {np.mean(RMSE)}')\n",
    "print('------------------------------------------------------------------------')"
   ]
  },
  {
   "cell_type": "code",
   "execution_count": 4,
   "id": "3b8ec239",
   "metadata": {},
   "outputs": [
    {
     "data": {
      "text/html": [
       "<style type=\"text/css\">\n",
       "</style>\n",
       "<table id=\"T_d829e_\">\n",
       "  <caption>Element 1</caption>\n",
       "  <thead>\n",
       "    <tr>\n",
       "      <th class=\"blank level0\" >&nbsp;</th>\n",
       "      <th class=\"col_heading level0 col0\" >Expected</th>\n",
       "      <th class=\"col_heading level0 col1\" >Predicted</th>\n",
       "    </tr>\n",
       "  </thead>\n",
       "  <tbody>\n",
       "    <tr>\n",
       "      <th id=\"T_d829e_level0_row0\" class=\"row_heading level0 row0\" >Average Particle Velocity</th>\n",
       "      <td id=\"T_d829e_row0_col0\" class=\"data row0 col0\" >270.000000</td>\n",
       "      <td id=\"T_d829e_row0_col1\" class=\"data row0 col1\" >264.921941</td>\n",
       "    </tr>\n",
       "    <tr>\n",
       "      <th id=\"T_d829e_level0_row1\" class=\"row_heading level0 row1\" >Average Particle Temperature</th>\n",
       "      <td id=\"T_d829e_row1_col0\" class=\"data row1 col0\" >2399.000000</td>\n",
       "      <td id=\"T_d829e_row1_col1\" class=\"data row1 col1\" >2407.681549</td>\n",
       "    </tr>\n",
       "    <tr>\n",
       "      <th id=\"T_d829e_level0_row2\" class=\"row_heading level0 row2\" >Average Particle Diameter</th>\n",
       "      <td id=\"T_d829e_row2_col0\" class=\"data row2 col0\" >51.000000</td>\n",
       "      <td id=\"T_d829e_row2_col1\" class=\"data row2 col1\" >48.605412</td>\n",
       "    </tr>\n",
       "  </tbody>\n",
       "</table>\n"
      ],
      "text/plain": [
       "<pandas.io.formats.style.Styler at 0x1c1a1a68f08>"
      ]
     },
     "metadata": {},
     "output_type": "display_data"
    },
    {
     "data": {
      "text/html": [
       "<style type=\"text/css\">\n",
       "</style>\n",
       "<table id=\"T_91d91_\">\n",
       "  <caption>Element 2</caption>\n",
       "  <thead>\n",
       "    <tr>\n",
       "      <th class=\"blank level0\" >&nbsp;</th>\n",
       "      <th class=\"col_heading level0 col0\" >Expected</th>\n",
       "      <th class=\"col_heading level0 col1\" >Predicted</th>\n",
       "    </tr>\n",
       "  </thead>\n",
       "  <tbody>\n",
       "    <tr>\n",
       "      <th id=\"T_91d91_level0_row0\" class=\"row_heading level0 row0\" >Average Particle Velocity</th>\n",
       "      <td id=\"T_91d91_row0_col0\" class=\"data row0 col0\" >264.000000</td>\n",
       "      <td id=\"T_91d91_row0_col1\" class=\"data row0 col1\" >251.576661</td>\n",
       "    </tr>\n",
       "    <tr>\n",
       "      <th id=\"T_91d91_level0_row1\" class=\"row_heading level0 row1\" >Average Particle Temperature</th>\n",
       "      <td id=\"T_91d91_row1_col0\" class=\"data row1 col0\" >2373.000000</td>\n",
       "      <td id=\"T_91d91_row1_col1\" class=\"data row1 col1\" >2251.362917</td>\n",
       "    </tr>\n",
       "    <tr>\n",
       "      <th id=\"T_91d91_level0_row2\" class=\"row_heading level0 row2\" >Average Particle Diameter</th>\n",
       "      <td id=\"T_91d91_row2_col0\" class=\"data row2 col0\" >47.000000</td>\n",
       "      <td id=\"T_91d91_row2_col1\" class=\"data row2 col1\" >43.928757</td>\n",
       "    </tr>\n",
       "  </tbody>\n",
       "</table>\n"
      ],
      "text/plain": [
       "<pandas.io.formats.style.Styler at 0x1c1a1a68e48>"
      ]
     },
     "metadata": {},
     "output_type": "display_data"
    },
    {
     "data": {
      "text/html": [
       "<style type=\"text/css\">\n",
       "</style>\n",
       "<table id=\"T_a0d21_\">\n",
       "  <caption>Element 3</caption>\n",
       "  <thead>\n",
       "    <tr>\n",
       "      <th class=\"blank level0\" >&nbsp;</th>\n",
       "      <th class=\"col_heading level0 col0\" >Expected</th>\n",
       "      <th class=\"col_heading level0 col1\" >Predicted</th>\n",
       "    </tr>\n",
       "  </thead>\n",
       "  <tbody>\n",
       "    <tr>\n",
       "      <th id=\"T_a0d21_level0_row0\" class=\"row_heading level0 row0\" >Average Particle Velocity</th>\n",
       "      <td id=\"T_a0d21_row0_col0\" class=\"data row0 col0\" >179.000000</td>\n",
       "      <td id=\"T_a0d21_row0_col1\" class=\"data row0 col1\" >566.139773</td>\n",
       "    </tr>\n",
       "    <tr>\n",
       "      <th id=\"T_a0d21_level0_row1\" class=\"row_heading level0 row1\" >Average Particle Temperature</th>\n",
       "      <td id=\"T_a0d21_row1_col0\" class=\"data row1 col0\" >2456.000000</td>\n",
       "      <td id=\"T_a0d21_row1_col1\" class=\"data row1 col1\" >2306.827996</td>\n",
       "    </tr>\n",
       "    <tr>\n",
       "      <th id=\"T_a0d21_level0_row2\" class=\"row_heading level0 row2\" >Average Particle Diameter</th>\n",
       "      <td id=\"T_a0d21_row2_col0\" class=\"data row2 col0\" >49.000000</td>\n",
       "      <td id=\"T_a0d21_row2_col1\" class=\"data row2 col1\" >36.716862</td>\n",
       "    </tr>\n",
       "  </tbody>\n",
       "</table>\n"
      ],
      "text/plain": [
       "<pandas.io.formats.style.Styler at 0x1c1a229a588>"
      ]
     },
     "metadata": {},
     "output_type": "display_data"
    },
    {
     "data": {
      "text/html": [
       "<style type=\"text/css\">\n",
       "</style>\n",
       "<table id=\"T_e7604_\">\n",
       "  <caption>Element 4</caption>\n",
       "  <thead>\n",
       "    <tr>\n",
       "      <th class=\"blank level0\" >&nbsp;</th>\n",
       "      <th class=\"col_heading level0 col0\" >Expected</th>\n",
       "      <th class=\"col_heading level0 col1\" >Predicted</th>\n",
       "    </tr>\n",
       "  </thead>\n",
       "  <tbody>\n",
       "    <tr>\n",
       "      <th id=\"T_e7604_level0_row0\" class=\"row_heading level0 row0\" >Average Particle Velocity</th>\n",
       "      <td id=\"T_e7604_row0_col0\" class=\"data row0 col0\" >263.000000</td>\n",
       "      <td id=\"T_e7604_row0_col1\" class=\"data row0 col1\" >306.046591</td>\n",
       "    </tr>\n",
       "    <tr>\n",
       "      <th id=\"T_e7604_level0_row1\" class=\"row_heading level0 row1\" >Average Particle Temperature</th>\n",
       "      <td id=\"T_e7604_row1_col0\" class=\"data row1 col0\" >2393.000000</td>\n",
       "      <td id=\"T_e7604_row1_col1\" class=\"data row1 col1\" >2370.942665</td>\n",
       "    </tr>\n",
       "    <tr>\n",
       "      <th id=\"T_e7604_level0_row2\" class=\"row_heading level0 row2\" >Average Particle Diameter</th>\n",
       "      <td id=\"T_e7604_row2_col0\" class=\"data row2 col0\" >50.000000</td>\n",
       "      <td id=\"T_e7604_row2_col1\" class=\"data row2 col1\" >46.238954</td>\n",
       "    </tr>\n",
       "  </tbody>\n",
       "</table>\n"
      ],
      "text/plain": [
       "<pandas.io.formats.style.Styler at 0x1c1a1a5bbc8>"
      ]
     },
     "metadata": {},
     "output_type": "display_data"
    },
    {
     "name": "stdout",
     "output_type": "stream",
     "text": [
      "------------------------------------------------------------------------\n",
      "Score per fold\n",
      "------------------------------------------------------------------------\n",
      "> Iteration 1 - Pearson Correlation: 0.9999988909008115\n",
      "------------------------------------------------------------------------\n",
      "> Iteration 2 - Pearson Correlation: 0.9999997314934042\n",
      "------------------------------------------------------------------------\n",
      "> Iteration 3 - Pearson Correlation: 0.9844235110625483\n",
      "------------------------------------------------------------------------\n",
      "> Iteration 4 - Pearson Correlation: 0.9998026808987948\n",
      "------------------------------------------------------------------------\n",
      "Average scores for all folds:\n",
      "> Average Pearsons Correlation: 0.9960562035888898 - Standard Deviation: 0.006716617884383949\n",
      "------------------------------------------------------------------------\n"
     ]
    }
   ],
   "source": [
    "linear_reg_model  = LinearRegression()\n",
    "X_train, X_test, Y_train, Y_test = train_test_split(feature, target, test_size = 0.20, random_state = 0)\n",
    "linear_reg_model.fit(X_train, Y_train)\n",
    "Y_pred = linear_reg_model.predict(X_test)\n",
    "prediction = pd.DataFrame(Y_pred, columns = get_col_names(target))\n",
    "\n",
    "'''Preparation to Rescale target values'''\n",
    "min_y = limit.iloc[num_feature: num_feature + num_target, 0].to_list()\n",
    "max_y = limit.iloc[num_feature: num_feature + num_target, 1].to_list()\n",
    "\n",
    "corr_list = []\n",
    "'''Tabulating the differences of Expected and Predictions made by the ANN Model'''\n",
    "for i in range(len(X_test)):\n",
    "    '''Rescaling of normalised data'''\n",
    "    expected = pd.DataFrame(inverse_transform(Y_test.iloc[i].to_list(), max_y, min_y))\n",
    "    predicted = pd.DataFrame(inverse_transform(prediction.iloc[i].to_list(), max_y, min_y))\n",
    "    comparison_df = pd.concat([expected, predicted], axis = 1)\n",
    "    comparison_df.columns = ['Expected', 'Predicted']\n",
    "    comparison_df.index = get_col_names(target)\n",
    "    display(comparison_df.style.set_caption(f\"Element {i + 1}\"))\n",
    "    corr, _ = pearsonr(expected.iloc[:, 0].tolist(), predicted.iloc[:, 0].tolist())\n",
    "    corr_list.append(corr)\n",
    "    \n",
    "'''Provide average score'''\n",
    "print('------------------------------------------------------------------------')\n",
    "print('Score per fold')\n",
    "for i in range(0, len(corr_list)):\n",
    "    print('------------------------------------------------------------------------')\n",
    "    print(f'> Iteration {i+1} - Pearson Correlation: {corr_list[i]}') \n",
    "print('------------------------------------------------------------------------')\n",
    "print('Average scores for all folds:')\n",
    "print(f'> Average Pearsons Correlation: {np.mean(corr_list)} - Standard Deviation: {np.std(corr_list)}')\n",
    "print('------------------------------------------------------------------------')  "
   ]
  }
 ],
 "metadata": {
  "kernelspec": {
   "display_name": "Python 3 (ipykernel)",
   "language": "python",
   "name": "python3"
  },
  "language_info": {
   "codemirror_mode": {
    "name": "ipython",
    "version": 3
   },
   "file_extension": ".py",
   "mimetype": "text/x-python",
   "name": "python",
   "nbconvert_exporter": "python",
   "pygments_lexer": "ipython3",
   "version": "3.7.11"
  }
 },
 "nbformat": 4,
 "nbformat_minor": 5
}
